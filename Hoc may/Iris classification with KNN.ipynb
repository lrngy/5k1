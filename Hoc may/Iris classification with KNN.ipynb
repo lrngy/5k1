{
 "cells": [
  {
   "cell_type": "code",
   "id": "3208026a",
   "metadata": {
    "ExecuteTime": {
     "end_time": "2024-07-15T09:29:52.733624Z",
     "start_time": "2024-07-15T09:29:48.609722Z"
    }
   },
   "source": [
    "import numpy as np\n",
    "import pandas as pd\n",
    "import matplotlib.pyplot as plt\n",
    "from sklearn import neighbors, datasets"
   ],
   "outputs": [],
   "execution_count": 1
  },
  {
   "cell_type": "code",
   "id": "56923422",
   "metadata": {
    "ExecuteTime": {
     "end_time": "2024-07-15T09:29:52.767908Z",
     "start_time": "2024-07-15T09:29:52.733624Z"
    }
   },
   "source": [
    "# Show the data\n",
    "iris = datasets.load_iris()\n",
    "df = pd.DataFrame(data=iris.data, columns=iris.feature_names)\n",
    "df['target'] = iris.target\n",
    "# Display the DataFrame\n",
    "print(df)"
   ],
   "outputs": [
    {
     "name": "stdout",
     "output_type": "stream",
     "text": [
      "     sepal length (cm)  sepal width (cm)  petal length (cm)  petal width (cm)  \\\n",
      "0                  5.1               3.5                1.4               0.2   \n",
      "1                  4.9               3.0                1.4               0.2   \n",
      "2                  4.7               3.2                1.3               0.2   \n",
      "3                  4.6               3.1                1.5               0.2   \n",
      "4                  5.0               3.6                1.4               0.2   \n",
      "..                 ...               ...                ...               ...   \n",
      "145                6.7               3.0                5.2               2.3   \n",
      "146                6.3               2.5                5.0               1.9   \n",
      "147                6.5               3.0                5.2               2.0   \n",
      "148                6.2               3.4                5.4               2.3   \n",
      "149                5.9               3.0                5.1               1.8   \n",
      "\n",
      "     target  \n",
      "0         0  \n",
      "1         0  \n",
      "2         0  \n",
      "3         0  \n",
      "4         0  \n",
      "..      ...  \n",
      "145       2  \n",
      "146       2  \n",
      "147       2  \n",
      "148       2  \n",
      "149       2  \n",
      "\n",
      "[150 rows x 5 columns]\n"
     ]
    }
   ],
   "execution_count": 2
  },
  {
   "cell_type": "code",
   "id": "fcd4202d",
   "metadata": {
    "ExecuteTime": {
     "end_time": "2024-07-15T09:29:52.780585Z",
     "start_time": "2024-07-15T09:29:52.767908Z"
    }
   },
   "source": [
    "# Load data\n",
    "iris = datasets.load_iris()\n",
    "print(type(iris))\n",
    "iris_X = iris.data\n",
    "iris_Y = iris.target\n",
    "print('Number of classes: %d' %len(np.unique(iris_Y)))\n",
    "print('Number of data points: %d' %len(iris_Y))"
   ],
   "outputs": [
    {
     "name": "stdout",
     "output_type": "stream",
     "text": [
      "<class 'sklearn.utils._bunch.Bunch'>\n",
      "Number of classes: 3\n",
      "Number of data points: 150\n"
     ]
    }
   ],
   "execution_count": 3
  },
  {
   "cell_type": "code",
   "id": "01d9be12",
   "metadata": {
    "ExecuteTime": {
     "end_time": "2024-07-15T09:29:52.792835Z",
     "start_time": "2024-07-15T09:29:52.780585Z"
    }
   },
   "source": [
    "# Split the data\n",
    "from sklearn.model_selection import train_test_split\n",
    "X_train, X_test, y_train, y_test = train_test_split(iris_X, iris_Y, test_size = 50)\n",
    "\n",
    "print('Training size: %d' %len(y_train))\n",
    "print('Test size %d' %len(y_test))"
   ],
   "outputs": [
    {
     "name": "stdout",
     "output_type": "stream",
     "text": [
      "Training size: 100\n",
      "Test size 50\n"
     ]
    }
   ],
   "execution_count": 4
  },
  {
   "cell_type": "code",
   "id": "5960abc2",
   "metadata": {
    "ExecuteTime": {
     "end_time": "2024-07-15T09:29:52.818148Z",
     "start_time": "2024-07-15T09:29:52.792835Z"
    }
   },
   "source": [
    "# Training model\n",
    "# Using Minkowsky distance with order p = 2 --> Euclidean Distance\n",
    "clf = neighbors.KNeighborsClassifier(n_neighbors = 1, p = 2)\n",
    "clf.fit(X_train, y_train)\n",
    "y_pred = clf.predict(X_test)\n",
    "\n",
    "print(\"The results for 20 test data points: \")\n",
    "print(\"Predicted labels: \", y_pred[20:40])\n",
    "print(\"Actual labes   : \", y_test[20:40])"
   ],
   "outputs": [
    {
     "name": "stdout",
     "output_type": "stream",
     "text": [
      "The results for 20 test data points: \n",
      "Predicted labels:  [1 0 1 1 1 2 2 2 2 2 1 1 1 2 2 1 2 0 2 1]\n",
      "Actual labes   :  [1 0 1 1 1 2 2 2 1 2 1 1 2 2 2 1 2 0 2 1]\n"
     ]
    }
   ],
   "execution_count": 5
  },
  {
   "cell_type": "code",
   "id": "779ae815",
   "metadata": {
    "ExecuteTime": {
     "end_time": "2024-07-15T09:29:52.828707Z",
     "start_time": "2024-07-15T09:29:52.821175Z"
    }
   },
   "source": [
    "# Calculating the accuracy\n",
    "from sklearn.metrics import accuracy_score\n",
    "print('Accuracy of 10NN: %.2f %%' %(100*accuracy_score(y_test, y_pred)))"
   ],
   "outputs": [
    {
     "name": "stdout",
     "output_type": "stream",
     "text": [
      "Accuracy of 10NN: 94.00 %\n"
     ]
    }
   ],
   "execution_count": 6
  },
  {
   "cell_type": "code",
   "id": "62123d36",
   "metadata": {
    "ExecuteTime": {
     "end_time": "2024-07-15T09:29:52.846022Z",
     "start_time": "2024-07-15T09:29:52.828707Z"
    }
   },
   "source": [
    "# Incresing the number of neighbors k = 10\n",
    "# Training model\n",
    "# Using Minkowsky distance with order p = 2 --> Euclidean Distance\n",
    "clf = neighbors.KNeighborsClassifier(n_neighbors = 10, p = 2)\n",
    "clf.fit(X_train, y_train)\n",
    "y_pred = clf.predict(X_test)\n",
    "\n",
    "print(\"The results for 20 test data points: \")\n",
    "print(\"Predicted labes: \", y_pred[20:40])\n",
    "print(\"Actual labes   : \", y_test[20:40])"
   ],
   "outputs": [
    {
     "name": "stdout",
     "output_type": "stream",
     "text": [
      "The results for 20 test data points: \n",
      "Predicted labes:  [1 0 1 1 1 2 2 2 2 2 1 1 1 2 2 1 2 0 2 1]\n",
      "Actual labes   :  [1 0 1 1 1 2 2 2 1 2 1 1 2 2 2 1 2 0 2 1]\n"
     ]
    }
   ],
   "execution_count": 7
  },
  {
   "cell_type": "code",
   "id": "1885b659",
   "metadata": {
    "ExecuteTime": {
     "end_time": "2024-07-15T09:29:52.856781Z",
     "start_time": "2024-07-15T09:29:52.846022Z"
    }
   },
   "source": [
    "# Calculating the accuracy\n",
    "from sklearn.metrics import accuracy_score\n",
    "print('Accuracy of 10NN: %.2f %%' %(100*accuracy_score(y_test, y_pred)))"
   ],
   "outputs": [
    {
     "name": "stdout",
     "output_type": "stream",
     "text": [
      "Accuracy of 10NN: 96.00 %\n"
     ]
    }
   ],
   "execution_count": 8
  },
  {
   "cell_type": "code",
   "id": "322f757c",
   "metadata": {
    "ExecuteTime": {
     "end_time": "2024-07-15T09:29:52.873014Z",
     "start_time": "2024-07-15T09:29:52.856781Z"
    }
   },
   "source": [
    "# Using the weights\n",
    "# Incresing the number of neighbors k = 10\n",
    "# Training model\n",
    "# Using Minkowsky distance with order p = 2 --> Euclidean Distance\n",
    "clf = neighbors.KNeighborsClassifier(n_neighbors = 10, p = 2, weights = 'distance')\n",
    "clf.fit(X_train, y_train)\n",
    "y_pred = clf.predict(X_test)\n",
    "\n",
    "print(\"The results for 20 test data points: \")\n",
    "print(\"Predicted labes: \", y_pred[20:40])\n",
    "print(\"Actual labes   : \", y_test[20:40])"
   ],
   "outputs": [
    {
     "name": "stdout",
     "output_type": "stream",
     "text": [
      "The results for 20 test data points: \n",
      "Predicted labes:  [1 0 1 1 1 2 2 2 2 2 1 1 1 2 2 1 2 0 2 1]\n",
      "Actual labes   :  [1 0 1 1 1 2 2 2 1 2 1 1 2 2 2 1 2 0 2 1]\n"
     ]
    }
   ],
   "execution_count": 9
  },
  {
   "cell_type": "code",
   "id": "bf4a1dd7",
   "metadata": {
    "ExecuteTime": {
     "end_time": "2024-07-15T09:29:52.883622Z",
     "start_time": "2024-07-15T09:29:52.873014Z"
    }
   },
   "source": [
    "print('Accuracy of 10NN: %.2f %%' %(100*accuracy_score(y_test, y_pred)))"
   ],
   "outputs": [
    {
     "name": "stdout",
     "output_type": "stream",
     "text": [
      "Accuracy of 10NN: 96.00 %\n"
     ]
    }
   ],
   "execution_count": 10
  },
  {
   "cell_type": "code",
   "id": "f82738d0",
   "metadata": {
    "ExecuteTime": {
     "end_time": "2024-07-15T09:29:52.891208Z",
     "start_time": "2024-07-15T09:29:52.884640Z"
    }
   },
   "source": [],
   "outputs": [],
   "execution_count": 10
  }
 ],
 "metadata": {
  "kernelspec": {
   "display_name": "Python 3 (ipykernel)",
   "language": "python",
   "name": "python3"
  },
  "language_info": {
   "codemirror_mode": {
    "name": "ipython",
    "version": 3
   },
   "file_extension": ".py",
   "mimetype": "text/x-python",
   "name": "python",
   "nbconvert_exporter": "python",
   "pygments_lexer": "ipython3",
   "version": "3.11.7"
  }
 },
 "nbformat": 4,
 "nbformat_minor": 5
}
